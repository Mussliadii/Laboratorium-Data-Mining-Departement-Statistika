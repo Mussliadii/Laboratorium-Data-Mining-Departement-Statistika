{
 "cells": [
  {
   "cell_type": "markdown",
   "id": "557ee563",
   "metadata": {},
   "source": [
    "# IMPORT LIBRARY"
   ]
  },
  {
   "cell_type": "code",
   "execution_count": 2,
   "id": "a9f74319",
   "metadata": {},
   "outputs": [],
   "source": [
    "import pandas as pd\n",
    "import matplotlib.pyplot as plt\n",
    "import numpy as np\n",
    "import seaborn as sns\n",
    "%matplotlib inline\n",
    "\n",
    "from sklearn.metrics import classification_report\n",
    "from sklearn.metrics import confusion_matrix\n",
    "from sklearn.metrics import ConfusionMatrixDisplay\n",
    "import warnings\n",
    "\n",
    "warnings.filterwarnings(\"ignore\")\n",
    "from statsmodels.tools.sm_exceptions import ConvergenceWarning\n",
    "\n",
    "# Biar gada muncul notif warning\n",
    "warnings.simplefilter(\"ignore\", ConvergenceWarning)"
   ]
  },
  {
   "cell_type": "code",
   "execution_count": 2,
   "id": "368c2924",
   "metadata": {},
   "outputs": [
    {
     "data": {
      "text/html": [
       "<div>\n",
       "<style scoped>\n",
       "    .dataframe tbody tr th:only-of-type {\n",
       "        vertical-align: middle;\n",
       "    }\n",
       "\n",
       "    .dataframe tbody tr th {\n",
       "        vertical-align: top;\n",
       "    }\n",
       "\n",
       "    .dataframe thead th {\n",
       "        text-align: right;\n",
       "    }\n",
       "</style>\n",
       "<table border=\"1\" class=\"dataframe\">\n",
       "  <thead>\n",
       "    <tr style=\"text-align: right;\">\n",
       "      <th></th>\n",
       "      <th>AnimalName</th>\n",
       "      <th>symptoms1</th>\n",
       "      <th>symptoms2</th>\n",
       "      <th>symptoms3</th>\n",
       "      <th>symptoms4</th>\n",
       "      <th>symptoms5</th>\n",
       "      <th>Dangerous</th>\n",
       "    </tr>\n",
       "  </thead>\n",
       "  <tbody>\n",
       "    <tr>\n",
       "      <th>0</th>\n",
       "      <td>Dog</td>\n",
       "      <td>Fever</td>\n",
       "      <td>Diarrhea</td>\n",
       "      <td>Vomiting</td>\n",
       "      <td>Weight loss</td>\n",
       "      <td>Dehydration</td>\n",
       "      <td>Yes</td>\n",
       "    </tr>\n",
       "    <tr>\n",
       "      <th>1</th>\n",
       "      <td>Dog</td>\n",
       "      <td>Fever</td>\n",
       "      <td>Diarrhea</td>\n",
       "      <td>Coughing</td>\n",
       "      <td>Tiredness</td>\n",
       "      <td>Pains</td>\n",
       "      <td>Yes</td>\n",
       "    </tr>\n",
       "    <tr>\n",
       "      <th>2</th>\n",
       "      <td>Dog</td>\n",
       "      <td>Fever</td>\n",
       "      <td>Diarrhea</td>\n",
       "      <td>Coughing</td>\n",
       "      <td>Vomiting</td>\n",
       "      <td>Anorexia</td>\n",
       "      <td>Yes</td>\n",
       "    </tr>\n",
       "    <tr>\n",
       "      <th>3</th>\n",
       "      <td>Dog</td>\n",
       "      <td>Fever</td>\n",
       "      <td>Difficulty breathing</td>\n",
       "      <td>Coughing</td>\n",
       "      <td>Lethargy</td>\n",
       "      <td>Sneezing</td>\n",
       "      <td>Yes</td>\n",
       "    </tr>\n",
       "    <tr>\n",
       "      <th>4</th>\n",
       "      <td>Dog</td>\n",
       "      <td>Fever</td>\n",
       "      <td>Diarrhea</td>\n",
       "      <td>Coughing</td>\n",
       "      <td>Lethargy</td>\n",
       "      <td>Blue Eye</td>\n",
       "      <td>Yes</td>\n",
       "    </tr>\n",
       "    <tr>\n",
       "      <th>...</th>\n",
       "      <td>...</td>\n",
       "      <td>...</td>\n",
       "      <td>...</td>\n",
       "      <td>...</td>\n",
       "      <td>...</td>\n",
       "      <td>...</td>\n",
       "      <td>...</td>\n",
       "    </tr>\n",
       "    <tr>\n",
       "      <th>866</th>\n",
       "      <td>Buffaloes</td>\n",
       "      <td>Fever</td>\n",
       "      <td>Difficulty breathing</td>\n",
       "      <td>Poor Appetite</td>\n",
       "      <td>Eye and Skin change</td>\n",
       "      <td>Unable to exercise</td>\n",
       "      <td>Yes</td>\n",
       "    </tr>\n",
       "    <tr>\n",
       "      <th>867</th>\n",
       "      <td>Buffaloes</td>\n",
       "      <td>Fever</td>\n",
       "      <td>Loss of  appetite</td>\n",
       "      <td>Lession on the skin</td>\n",
       "      <td>Lethargy</td>\n",
       "      <td>Joint Pain</td>\n",
       "      <td>Yes</td>\n",
       "    </tr>\n",
       "    <tr>\n",
       "      <th>868</th>\n",
       "      <td>Buffaloes</td>\n",
       "      <td>Lesions in the nasal cavity</td>\n",
       "      <td>Lesions on nose</td>\n",
       "      <td>Vomiting</td>\n",
       "      <td>Noisy Breathing</td>\n",
       "      <td>Lesions on nose</td>\n",
       "      <td>Yes</td>\n",
       "    </tr>\n",
       "    <tr>\n",
       "      <th>869</th>\n",
       "      <td>Buffaloes</td>\n",
       "      <td>Hair loss</td>\n",
       "      <td>Dandruff</td>\n",
       "      <td>Vomiting</td>\n",
       "      <td>Crusting of the skin</td>\n",
       "      <td>Ulcerated skin</td>\n",
       "      <td>Yes</td>\n",
       "    </tr>\n",
       "    <tr>\n",
       "      <th>870</th>\n",
       "      <td>Buffaloes</td>\n",
       "      <td>Greenish-yellow nasal discharge</td>\n",
       "      <td>Lack of pigmentation</td>\n",
       "      <td>Vomiting</td>\n",
       "      <td>Lethargy</td>\n",
       "      <td>Pain on face</td>\n",
       "      <td>Yes</td>\n",
       "    </tr>\n",
       "  </tbody>\n",
       "</table>\n",
       "<p>871 rows × 7 columns</p>\n",
       "</div>"
      ],
      "text/plain": [
       "    AnimalName                        symptoms1             symptoms2  \\\n",
       "0          Dog                            Fever              Diarrhea   \n",
       "1          Dog                            Fever              Diarrhea   \n",
       "2          Dog                            Fever              Diarrhea   \n",
       "3          Dog                            Fever  Difficulty breathing   \n",
       "4          Dog                            Fever              Diarrhea   \n",
       "..         ...                              ...                   ...   \n",
       "866  Buffaloes                            Fever  Difficulty breathing   \n",
       "867  Buffaloes                            Fever     Loss of  appetite   \n",
       "868  Buffaloes      Lesions in the nasal cavity       Lesions on nose   \n",
       "869  Buffaloes                        Hair loss              Dandruff   \n",
       "870  Buffaloes  Greenish-yellow nasal discharge  Lack of pigmentation   \n",
       "\n",
       "               symptoms3             symptoms4           symptoms5 Dangerous  \n",
       "0               Vomiting           Weight loss         Dehydration       Yes  \n",
       "1               Coughing             Tiredness               Pains       Yes  \n",
       "2               Coughing              Vomiting            Anorexia       Yes  \n",
       "3               Coughing              Lethargy            Sneezing       Yes  \n",
       "4               Coughing              Lethargy            Blue Eye       Yes  \n",
       "..                   ...                   ...                 ...       ...  \n",
       "866        Poor Appetite   Eye and Skin change  Unable to exercise       Yes  \n",
       "867  Lession on the skin              Lethargy          Joint Pain       Yes  \n",
       "868             Vomiting       Noisy Breathing     Lesions on nose       Yes  \n",
       "869             Vomiting  Crusting of the skin      Ulcerated skin       Yes  \n",
       "870             Vomiting              Lethargy        Pain on face       Yes  \n",
       "\n",
       "[871 rows x 7 columns]"
      ]
     },
     "execution_count": 2,
     "metadata": {},
     "output_type": "execute_result"
    }
   ],
   "source": [
    "#MUSLIADII\n",
    "#memanggil data dari direktori D\n",
    "datahewan = pd.read_csv('D:/All Data I Have/datahewan.csv')\n",
    "datahewan"
   ]
  },
  {
   "cell_type": "markdown",
   "id": "72e93f41",
   "metadata": {},
   "source": [
    "- Data yang dipanggil memiliki 871 baris dan 7 kolom"
   ]
  },
  {
   "cell_type": "markdown",
   "id": "0f9c3355",
   "metadata": {},
   "source": [
    "# DATA UNDERSTANDING"
   ]
  },
  {
   "cell_type": "code",
   "execution_count": 3,
   "id": "351612e0",
   "metadata": {},
   "outputs": [
    {
     "data": {
      "text/html": [
       "<div>\n",
       "<style scoped>\n",
       "    .dataframe tbody tr th:only-of-type {\n",
       "        vertical-align: middle;\n",
       "    }\n",
       "\n",
       "    .dataframe tbody tr th {\n",
       "        vertical-align: top;\n",
       "    }\n",
       "\n",
       "    .dataframe thead th {\n",
       "        text-align: right;\n",
       "    }\n",
       "</style>\n",
       "<table border=\"1\" class=\"dataframe\">\n",
       "  <thead>\n",
       "    <tr style=\"text-align: right;\">\n",
       "      <th></th>\n",
       "      <th>AnimalName</th>\n",
       "      <th>symptoms1</th>\n",
       "      <th>symptoms2</th>\n",
       "      <th>symptoms3</th>\n",
       "      <th>symptoms4</th>\n",
       "      <th>symptoms5</th>\n",
       "      <th>Dangerous</th>\n",
       "    </tr>\n",
       "  </thead>\n",
       "  <tbody>\n",
       "    <tr>\n",
       "      <th>0</th>\n",
       "      <td>Dog</td>\n",
       "      <td>Fever</td>\n",
       "      <td>Diarrhea</td>\n",
       "      <td>Vomiting</td>\n",
       "      <td>Weight loss</td>\n",
       "      <td>Dehydration</td>\n",
       "      <td>Yes</td>\n",
       "    </tr>\n",
       "    <tr>\n",
       "      <th>1</th>\n",
       "      <td>Dog</td>\n",
       "      <td>Fever</td>\n",
       "      <td>Diarrhea</td>\n",
       "      <td>Coughing</td>\n",
       "      <td>Tiredness</td>\n",
       "      <td>Pains</td>\n",
       "      <td>Yes</td>\n",
       "    </tr>\n",
       "    <tr>\n",
       "      <th>2</th>\n",
       "      <td>Dog</td>\n",
       "      <td>Fever</td>\n",
       "      <td>Diarrhea</td>\n",
       "      <td>Coughing</td>\n",
       "      <td>Vomiting</td>\n",
       "      <td>Anorexia</td>\n",
       "      <td>Yes</td>\n",
       "    </tr>\n",
       "    <tr>\n",
       "      <th>3</th>\n",
       "      <td>Dog</td>\n",
       "      <td>Fever</td>\n",
       "      <td>Difficulty breathing</td>\n",
       "      <td>Coughing</td>\n",
       "      <td>Lethargy</td>\n",
       "      <td>Sneezing</td>\n",
       "      <td>Yes</td>\n",
       "    </tr>\n",
       "    <tr>\n",
       "      <th>4</th>\n",
       "      <td>Dog</td>\n",
       "      <td>Fever</td>\n",
       "      <td>Diarrhea</td>\n",
       "      <td>Coughing</td>\n",
       "      <td>Lethargy</td>\n",
       "      <td>Blue Eye</td>\n",
       "      <td>Yes</td>\n",
       "    </tr>\n",
       "  </tbody>\n",
       "</table>\n",
       "</div>"
      ],
      "text/plain": [
       "  AnimalName symptoms1             symptoms2 symptoms3    symptoms4  \\\n",
       "0        Dog     Fever              Diarrhea  Vomiting  Weight loss   \n",
       "1        Dog     Fever              Diarrhea  Coughing    Tiredness   \n",
       "2        Dog     Fever              Diarrhea  Coughing     Vomiting   \n",
       "3        Dog     Fever  Difficulty breathing  Coughing     Lethargy   \n",
       "4        Dog     Fever              Diarrhea  Coughing     Lethargy   \n",
       "\n",
       "     symptoms5 Dangerous  \n",
       "0  Dehydration       Yes  \n",
       "1        Pains       Yes  \n",
       "2     Anorexia       Yes  \n",
       "3     Sneezing       Yes  \n",
       "4     Blue Eye       Yes  "
      ]
     },
     "execution_count": 3,
     "metadata": {},
     "output_type": "execute_result"
    }
   ],
   "source": [
    "#Musliadii\n",
    "#melihat 5 baris data teratas\n",
    "datahewan.head()"
   ]
  },
  {
   "cell_type": "code",
   "execution_count": 4,
   "id": "894d9770",
   "metadata": {
    "scrolled": false
   },
   "outputs": [
    {
     "name": "stdout",
     "output_type": "stream",
     "text": [
      "Buffaloes            129\n",
      "Sheep                110\n",
      "Pig                   63\n",
      "Fowl                  62\n",
      "Elephant              59\n",
      "Duck                  56\n",
      "Deer                  38\n",
      "Donkey                38\n",
      "Birds                 37\n",
      "cat                   36\n",
      "Dog                   34\n",
      "Monkey                28\n",
      "Goat                  26\n",
      "Cattle                21\n",
      "Hamster               18\n",
      "Tiger                 17\n",
      "Lion                  16\n",
      "Rabbit                11\n",
      "Horse                 10\n",
      "Chicken                9\n",
      "Fox                    7\n",
      "Other Birds            6\n",
      "horse                  5\n",
      "chicken                4\n",
      "Turtle                 4\n",
      "Pigs                   3\n",
      "cow                    3\n",
      "donkey                 2\n",
      "Goats                  2\n",
      "White-tailed deer      1\n",
      "Hyaenas                1\n",
      "Wolves                 1\n",
      "Dogs                   1\n",
      "Fox                    1\n",
      "Moos                   1\n",
      "Reindeer               1\n",
      "mammal                 1\n",
      "Sika deer              1\n",
      "cattle                 1\n",
      "Mule deer              1\n",
      "Wapiti                 1\n",
      "Elk                    1\n",
      "mules                  1\n",
      "duck                   1\n",
      "snake                  1\n",
      "Black-tailed deer      1\n",
      "Name: AnimalName, dtype: int64\n",
      "----------------------------------------\n",
      "Fever                      257\n",
      "Fetopelvic dispropotion     21\n",
      "wasting                     20\n",
      "fever                       14\n",
      "loss of appetite            12\n",
      "                          ... \n",
      "Inflammation                 1\n",
      "Isolation from flock         1\n",
      "Bluish white opacity         1\n",
      "Head tossing                 1\n",
      "Dizzines                     1\n",
      "Name: symptoms1, Length: 232, dtype: int64\n",
      "----------------------------------------\n",
      "Diarrhea                   119\n",
      "Depression                  26\n",
      "Loss of appetite            26\n",
      "Difficulty in breathing     26\n",
      "Uteria inertia              21\n",
      "                          ... \n",
      "Larynx                       1\n",
      "Stealing                     1\n",
      "Difficulty in walking        1\n",
      "Aversion to light            1\n",
      "Diffulty Swallowing          1\n",
      "Name: symptoms2, Length: 230, dtype: int64\n",
      "----------------------------------------\n",
      "Coughing              95\n",
      "Vomiting              59\n",
      "loss of appetite      28\n",
      "Malpresentation       22\n",
      "Lethargy              22\n",
      "                      ..\n",
      "Bloody Diarrhea        1\n",
      "Swelling on jaw        1\n",
      "Grinding of teeth      1\n",
      "Tear produce           1\n",
      "Excessive drooling     1\n",
      "Name: symptoms3, Length: 229, dtype: int64\n",
      "----------------------------------------\n",
      "Weight loss          117\n",
      "Death                 51\n",
      "Lethargy              47\n",
      "Depression            28\n",
      "Weakness              25\n",
      "                    ... \n",
      "Irritation             1\n",
      "Heat                   1\n",
      "Pawing at bedding      1\n",
      "Bleeding wounds        1\n",
      "Scartches              1\n",
      "Name: symptoms4, Length: 217, dtype: int64\n",
      "----------------------------------------\n",
      "Pains                 99\n",
      "Pain                  68\n",
      "Nasal Discharge       37\n",
      "Anorexia              37\n",
      "Weight loss           24\n",
      "                      ..\n",
      "lameness               2\n",
      "weakness               1\n",
      "Neck Vein Swelling     1\n",
      "Redness on ear         1\n",
      "Blister                1\n",
      "Name: symptoms5, Length: 203, dtype: int64\n",
      "----------------------------------------\n",
      "Yes    849\n",
      "No      20\n",
      "Name: Dangerous, dtype: int64\n",
      "----------------------------------------\n"
     ]
    }
   ],
   "source": [
    "# Membuat daftar semua variabel katrgorikal\n",
    "cat_col = datahewan.select_dtypes(\"object\").columns.to_list()\n",
    "\n",
    "# Mencetak jumlah hitungan dari setiap nilai unik di setiap kolom\n",
    "for column in cat_col:\n",
    "    print(datahewan[column].value_counts())\n",
    "    print(\"-\" * 40)"
   ]
  },
  {
   "cell_type": "code",
   "execution_count": 5,
   "id": "342a570c",
   "metadata": {},
   "outputs": [
    {
     "data": {
      "text/plain": [
       "AnimalName    object\n",
       "symptoms1     object\n",
       "symptoms2     object\n",
       "symptoms3     object\n",
       "symptoms4     object\n",
       "symptoms5     object\n",
       "Dangerous     object\n",
       "dtype: object"
      ]
     },
     "execution_count": 5,
     "metadata": {},
     "output_type": "execute_result"
    }
   ],
   "source": [
    "#Mussliadi\n",
    "#Melihat tipe data \n",
    "datahewan.dtypes"
   ]
  },
  {
   "cell_type": "markdown",
   "id": "ad7cec57",
   "metadata": {},
   "source": [
    "- Semua tipe data adalah object"
   ]
  },
  {
   "cell_type": "markdown",
   "id": "31b7fd88",
   "metadata": {},
   "source": [
    "# DATA CLEANING"
   ]
  },
  {
   "cell_type": "code",
   "execution_count": 6,
   "id": "c2dfa9fa",
   "metadata": {},
   "outputs": [
    {
     "name": "stdout",
     "output_type": "stream",
     "text": [
      "<class 'pandas.core.frame.DataFrame'>\n",
      "RangeIndex: 871 entries, 0 to 870\n",
      "Data columns (total 7 columns):\n",
      " #   Column      Non-Null Count  Dtype \n",
      "---  ------      --------------  ----- \n",
      " 0   AnimalName  871 non-null    object\n",
      " 1   symptoms1   871 non-null    object\n",
      " 2   symptoms2   871 non-null    object\n",
      " 3   symptoms3   871 non-null    object\n",
      " 4   symptoms4   871 non-null    object\n",
      " 5   symptoms5   871 non-null    object\n",
      " 6   Dangerous   869 non-null    object\n",
      "dtypes: object(7)\n",
      "memory usage: 47.8+ KB\n"
     ]
    }
   ],
   "source": [
    "# Musliadi\n",
    "# Melihat informasi data\n",
    "datahewan.info()"
   ]
  },
  {
   "cell_type": "code",
   "execution_count": 7,
   "id": "a3443687",
   "metadata": {},
   "outputs": [
    {
     "data": {
      "text/plain": [
       "AnimalName    0\n",
       "symptoms1     0\n",
       "symptoms2     0\n",
       "symptoms3     0\n",
       "symptoms4     0\n",
       "symptoms5     0\n",
       "Dangerous     2\n",
       "dtype: int64"
      ]
     },
     "execution_count": 7,
     "metadata": {},
     "output_type": "execute_result"
    }
   ],
   "source": [
    "# Musliadi\n",
    "# Melihat data kosong pada semua masing masing variabel\n",
    "datahewan.isnull().sum()"
   ]
  },
  {
   "cell_type": "markdown",
   "id": "2bab0d59",
   "metadata": {},
   "source": [
    "- Terdapat 2 missing value pada kolom dangerous\n"
   ]
  },
  {
   "cell_type": "code",
   "execution_count": 8,
   "id": "8a4bb947",
   "metadata": {},
   "outputs": [
    {
     "data": {
      "text/html": [
       "<div>\n",
       "<style scoped>\n",
       "    .dataframe tbody tr th:only-of-type {\n",
       "        vertical-align: middle;\n",
       "    }\n",
       "\n",
       "    .dataframe tbody tr th {\n",
       "        vertical-align: top;\n",
       "    }\n",
       "\n",
       "    .dataframe thead th {\n",
       "        text-align: right;\n",
       "    }\n",
       "</style>\n",
       "<table border=\"1\" class=\"dataframe\">\n",
       "  <thead>\n",
       "    <tr style=\"text-align: right;\">\n",
       "      <th></th>\n",
       "      <th>AnimalName</th>\n",
       "      <th>symptoms1</th>\n",
       "      <th>symptoms2</th>\n",
       "      <th>symptoms3</th>\n",
       "      <th>symptoms4</th>\n",
       "      <th>symptoms5</th>\n",
       "      <th>Dangerous</th>\n",
       "    </tr>\n",
       "  </thead>\n",
       "  <tbody>\n",
       "    <tr>\n",
       "      <th>269</th>\n",
       "      <td>Sheep</td>\n",
       "      <td>Teeth griding</td>\n",
       "      <td>Apathy</td>\n",
       "      <td>Dehydration</td>\n",
       "      <td>Ruminal stasis</td>\n",
       "      <td>Watery faeces</td>\n",
       "      <td>NaN</td>\n",
       "    </tr>\n",
       "    <tr>\n",
       "      <th>695</th>\n",
       "      <td>Buffaloes</td>\n",
       "      <td>Teeth griding</td>\n",
       "      <td>Apathy</td>\n",
       "      <td>Dehydration</td>\n",
       "      <td>Ruminal stasis</td>\n",
       "      <td>Watery faeces</td>\n",
       "      <td>NaN</td>\n",
       "    </tr>\n",
       "  </tbody>\n",
       "</table>\n",
       "</div>"
      ],
      "text/plain": [
       "    AnimalName      symptoms1 symptoms2    symptoms3       symptoms4  \\\n",
       "269      Sheep  Teeth griding    Apathy  Dehydration  Ruminal stasis   \n",
       "695  Buffaloes  Teeth griding    Apathy  Dehydration  Ruminal stasis   \n",
       "\n",
       "         symptoms5 Dangerous  \n",
       "269  Watery faeces       NaN  \n",
       "695  Watery faeces       NaN  "
      ]
     },
     "execution_count": 8,
     "metadata": {},
     "output_type": "execute_result"
    }
   ],
   "source": [
    "# Musliadi\n",
    "# Melihat baris data dangerous yang kosong\n",
    "datahewan[datahewan['Dangerous'].isna()]"
   ]
  },
  {
   "cell_type": "code",
   "execution_count": 9,
   "id": "0c34ba3d",
   "metadata": {},
   "outputs": [],
   "source": [
    "# Musliadi\n",
    "# Data yang diatas ada NaN nya dihapus aja, mengingat cuma 2 baris\n",
    "datahewan.dropna(inplace = True, axis = 0)"
   ]
  },
  {
   "cell_type": "code",
   "execution_count": 10,
   "id": "5b54b80b",
   "metadata": {},
   "outputs": [
    {
     "data": {
      "text/plain": [
       "(869, 7)"
      ]
     },
     "execution_count": 10,
     "metadata": {},
     "output_type": "execute_result"
    }
   ],
   "source": [
    "# Musliadi\n",
    "# Melihat baris kolom pada data sekarang\n",
    "datahewan.shape"
   ]
  },
  {
   "cell_type": "code",
   "execution_count": 11,
   "id": "57fcfbce",
   "metadata": {},
   "outputs": [
    {
     "data": {
      "text/plain": [
       "Birds                 37\n",
       "Black-tailed deer      1\n",
       "Buffaloes            128\n",
       "Cattle                21\n",
       "Chicken                9\n",
       "Deer                  38\n",
       "Dog                   34\n",
       "Dogs                   1\n",
       "Donkey                38\n",
       "Duck                  56\n",
       "Elephant              59\n",
       "Elk                    1\n",
       "Fowl                  62\n",
       "Fox                    7\n",
       "Fox                    1\n",
       "Goat                  26\n",
       "Goats                  2\n",
       "Hamster               18\n",
       "Horse                 10\n",
       "Hyaenas                1\n",
       "Lion                  16\n",
       "Monkey                28\n",
       "Moos                   1\n",
       "Mule deer              1\n",
       "Other Birds            6\n",
       "Pig                   63\n",
       "Pigs                   3\n",
       "Rabbit                11\n",
       "Reindeer               1\n",
       "Sheep                109\n",
       "Sika deer              1\n",
       "Tiger                 17\n",
       "Turtle                 4\n",
       "Wapiti                 1\n",
       "White-tailed deer      1\n",
       "Wolves                 1\n",
       "cat                   36\n",
       "cattle                 1\n",
       "chicken                4\n",
       "cow                    3\n",
       "donkey                 2\n",
       "duck                   1\n",
       "horse                  5\n",
       "mammal                 1\n",
       "mules                  1\n",
       "snake                  1\n",
       "Name: AnimalName, dtype: int64"
      ]
     },
     "execution_count": 11,
     "metadata": {},
     "output_type": "execute_result"
    }
   ],
   "source": [
    "# Musliadi\n",
    "# Melihat nama nama hewan yang ada dan frekuensi kemunculan nama hewan\n",
    "datahewan['AnimalName'].value_counts().sort_index()"
   ]
  },
  {
   "cell_type": "markdown",
   "id": "0f5966d9",
   "metadata": {},
   "source": [
    "- Berdasarkan hasil diatas kita dapat melihat adanya duplikat data, misal ada Duck dan duck padahal mareka sama aja"
   ]
  },
  {
   "cell_type": "code",
   "execution_count": 12,
   "id": "4ddcc528",
   "metadata": {},
   "outputs": [],
   "source": [
    "# Musladi\n",
    "# mengubah teks dalam kolom 'AnimalName'\n",
    "# sehingga huruf pertama setiap kata menjadi huruf kapital dan huruf lain menjadi huruf kecil\n",
    "datahewan['AnimalName'] = datahewan['AnimalName'].str.capitalize()"
   ]
  },
  {
   "cell_type": "code",
   "execution_count": 13,
   "id": "f6d0092a",
   "metadata": {},
   "outputs": [],
   "source": [
    "datahewan['AnimalName'].replace({'Black-tailed deer':'Deer','White-tailed deer':'Deer','Mule deer':'Deer','Sika deer':'Deer',\n",
    "                            'Other birds': 'Birds', 'Dogs': 'Dog', 'Fox ':'Fox', 'Goats': 'Goat'\n",
    "                            \n",
    "                            }, inplace = True)"
   ]
  },
  {
   "cell_type": "code",
   "execution_count": 14,
   "id": "622debe2",
   "metadata": {},
   "outputs": [
    {
     "data": {
      "text/plain": [
       "array(['Dog', 'Cat', 'Rabbit', 'Cow', 'Chicken', 'Cattle', 'Mammal',\n",
       "       'Horse', 'Turtle', 'Hamster', 'Lion', 'Fox', 'Goat', 'Deer',\n",
       "       'Monkey', 'Birds', 'Sheep', 'Pigs', 'Fowl', 'Duck', 'Snake',\n",
       "       'Donkey', 'Mules', 'Elephant', 'Elk', 'Wapiti', 'Reindeer', 'Moos',\n",
       "       'Tiger', 'Buffaloes', 'Wolves', 'Hyaenas', 'Pig'], dtype=object)"
      ]
     },
     "execution_count": 14,
     "metadata": {},
     "output_type": "execute_result"
    }
   ],
   "source": [
    "# Musliadi\n",
    "# Melihat kategori lagi, apa ada yang kelewat\n",
    "datahewan['AnimalName'].unique()"
   ]
  },
  {
   "cell_type": "code",
   "execution_count": 15,
   "id": "d1f4eecf",
   "metadata": {},
   "outputs": [
    {
     "data": {
      "image/png": "[encoded data removed]",
      "text/plain": [
       "<Figure size 2500x500 with 1 Axes>"
      ]
     },
     "metadata": {},
     "output_type": "display_data"
    }
   ],
   "source": [
    "# Musliadi\n",
    "#Proporsi nama hewan berdasarkan bahaya\n",
    "colors = ['Wheat', 'Sienna'] \n",
    "plt.figure(figsize=(25,5))\n",
    "sns.countplot(x='AnimalName', hue='Dangerous', data=datahewan, palette=colors)\n",
    "plt.title(' Proporsi Nama Hewan berdasarkan bahaya', fontsize=15)\n",
    "plt.show()"
   ]
  },
  {
   "cell_type": "markdown",
   "id": "1bd1bc85",
   "metadata": {},
   "source": [
    "- Proporsi nama hewan dengan bahaya No lebih sedikit daripada Yes"
   ]
  },
  {
   "cell_type": "code",
   "execution_count": 16,
   "id": "f31e4fc7",
   "metadata": {},
   "outputs": [
    {
     "data": {
      "text/plain": [
       "'\\nthe visualization(matrix) does not show any obvious pattern or cluster in the missing \\nvalues, hence, we assume that our data is missing completely at random(MCAR)\\n'"
      ]
     },
     "execution_count": 16,
     "metadata": {},
     "output_type": "execute_result"
    },
    {
     "data": {
      "image/png": "[encoded data removed]",
      "text/plain": [
       "<Figure size 2500x1000 with 2 Axes>"
      ]
     },
     "metadata": {},
     "output_type": "display_data"
    }
   ],
   "source": [
    "# visualisasi missing value\n",
    "import missingno as msno\n",
    "msno.matrix(datahewan);\n",
    "\n",
    "'''\n",
    "the visualization(matrix) does not show any obvious pattern or cluster in the missing \n",
    "values, hence, we assume that our data is missing completely at random(MCAR)\n",
    "'''"
   ]
  },
  {
   "cell_type": "markdown",
   "id": "3efffa1c",
   "metadata": {},
   "source": [
    "- Tidak ada missing value pada visualisasi"
   ]
  },
  {
   "cell_type": "code",
   "execution_count": 17,
   "id": "c905e3b7",
   "metadata": {},
   "outputs": [],
   "source": [
    "# Musliadi\n",
    "# mengubah nilai-nilai dalam kolom bertipe objek menjadi nilai numerik\n",
    "from sklearn.preprocessing import LabelEncoder\n",
    "\n",
    "for col in datahewan.columns : \n",
    "    if datahewan[col].dtypes =='object' : \n",
    "        enc  = LabelEncoder()\n",
    "        enc.fit(datahewan[col].astype(str))\n",
    "        datahewan[f'{col}_'] = enc.transform(datahewan[col].astype(str))\n",
    "        datahewan.drop([col],axis=1, inplace=True) "
   ]
  },
  {
   "cell_type": "code",
   "execution_count": 18,
   "id": "36171336",
   "metadata": {},
   "outputs": [
    {
     "data": {
      "text/html": [
       "<div>\n",
       "<style scoped>\n",
       "    .dataframe tbody tr th:only-of-type {\n",
       "        vertical-align: middle;\n",
       "    }\n",
       "\n",
       "    .dataframe tbody tr th {\n",
       "        vertical-align: top;\n",
       "    }\n",
       "\n",
       "    .dataframe thead th {\n",
       "        text-align: right;\n",
       "    }\n",
       "</style>\n",
       "<table border=\"1\" class=\"dataframe\">\n",
       "  <thead>\n",
       "    <tr style=\"text-align: right;\">\n",
       "      <th></th>\n",
       "      <th>AnimalName</th>\n",
       "      <th>symptoms1</th>\n",
       "      <th>symptoms2</th>\n",
       "      <th>symptoms3</th>\n",
       "      <th>symptoms4</th>\n",
       "      <th>symptoms5</th>\n",
       "      <th>Dangerous</th>\n",
       "    </tr>\n",
       "  </thead>\n",
       "  <tbody>\n",
       "    <tr>\n",
       "      <th>0</th>\n",
       "      <td>7</td>\n",
       "      <td>63</td>\n",
       "      <td>30</td>\n",
       "      <td>179</td>\n",
       "      <td>181</td>\n",
       "      <td>32</td>\n",
       "      <td>1</td>\n",
       "    </tr>\n",
       "    <tr>\n",
       "      <th>1</th>\n",
       "      <td>7</td>\n",
       "      <td>63</td>\n",
       "      <td>30</td>\n",
       "      <td>31</td>\n",
       "      <td>164</td>\n",
       "      <td>113</td>\n",
       "      <td>1</td>\n",
       "    </tr>\n",
       "    <tr>\n",
       "      <th>2</th>\n",
       "      <td>7</td>\n",
       "      <td>63</td>\n",
       "      <td>30</td>\n",
       "      <td>31</td>\n",
       "      <td>172</td>\n",
       "      <td>8</td>\n",
       "      <td>1</td>\n",
       "    </tr>\n",
       "    <tr>\n",
       "      <th>3</th>\n",
       "      <td>7</td>\n",
       "      <td>63</td>\n",
       "      <td>33</td>\n",
       "      <td>31</td>\n",
       "      <td>87</td>\n",
       "      <td>142</td>\n",
       "      <td>1</td>\n",
       "    </tr>\n",
       "    <tr>\n",
       "      <th>4</th>\n",
       "      <td>7</td>\n",
       "      <td>63</td>\n",
       "      <td>30</td>\n",
       "      <td>31</td>\n",
       "      <td>87</td>\n",
       "      <td>21</td>\n",
       "      <td>1</td>\n",
       "    </tr>\n",
       "    <tr>\n",
       "      <th>...</th>\n",
       "      <td>...</td>\n",
       "      <td>...</td>\n",
       "      <td>...</td>\n",
       "      <td>...</td>\n",
       "      <td>...</td>\n",
       "      <td>...</td>\n",
       "      <td>...</td>\n",
       "    </tr>\n",
       "    <tr>\n",
       "      <th>866</th>\n",
       "      <td>1</td>\n",
       "      <td>63</td>\n",
       "      <td>33</td>\n",
       "      <td>115</td>\n",
       "      <td>53</td>\n",
       "      <td>160</td>\n",
       "      <td>1</td>\n",
       "    </tr>\n",
       "    <tr>\n",
       "      <th>867</th>\n",
       "      <td>1</td>\n",
       "      <td>63</td>\n",
       "      <td>94</td>\n",
       "      <td>88</td>\n",
       "      <td>87</td>\n",
       "      <td>78</td>\n",
       "      <td>1</td>\n",
       "    </tr>\n",
       "    <tr>\n",
       "      <th>868</th>\n",
       "      <td>1</td>\n",
       "      <td>97</td>\n",
       "      <td>89</td>\n",
       "      <td>179</td>\n",
       "      <td>107</td>\n",
       "      <td>82</td>\n",
       "      <td>1</td>\n",
       "    </tr>\n",
       "    <tr>\n",
       "      <th>869</th>\n",
       "      <td>1</td>\n",
       "      <td>77</td>\n",
       "      <td>25</td>\n",
       "      <td>179</td>\n",
       "      <td>27</td>\n",
       "      <td>159</td>\n",
       "      <td>1</td>\n",
       "    </tr>\n",
       "    <tr>\n",
       "      <th>870</th>\n",
       "      <td>1</td>\n",
       "      <td>75</td>\n",
       "      <td>83</td>\n",
       "      <td>179</td>\n",
       "      <td>87</td>\n",
       "      <td>111</td>\n",
       "      <td>1</td>\n",
       "    </tr>\n",
       "  </tbody>\n",
       "</table>\n",
       "<p>869 rows × 7 columns</p>\n",
       "</div>"
      ],
      "text/plain": [
       "     AnimalName  symptoms1  symptoms2  symptoms3  symptoms4  symptoms5  \\\n",
       "0             7         63         30        179        181         32   \n",
       "1             7         63         30         31        164        113   \n",
       "2             7         63         30         31        172          8   \n",
       "3             7         63         33         31         87        142   \n",
       "4             7         63         30         31         87         21   \n",
       "..          ...        ...        ...        ...        ...        ...   \n",
       "866           1         63         33        115         53        160   \n",
       "867           1         63         94         88         87         78   \n",
       "868           1         97         89        179        107         82   \n",
       "869           1         77         25        179         27        159   \n",
       "870           1         75         83        179         87        111   \n",
       "\n",
       "     Dangerous  \n",
       "0            1  \n",
       "1            1  \n",
       "2            1  \n",
       "3            1  \n",
       "4            1  \n",
       "..         ...  \n",
       "866          1  \n",
       "867          1  \n",
       "868          1  \n",
       "869          1  \n",
       "870          1  \n",
       "\n",
       "[869 rows x 7 columns]"
      ]
     },
     "execution_count": 18,
     "metadata": {},
     "output_type": "execute_result"
    }
   ],
   "source": [
    "datahewan.columns = ['AnimalName', 'symptoms1', 'symptoms2', 'symptoms3', 'symptoms4', 'symptoms5', 'Dangerous']\n",
    "datahewan"
   ]
  },
  {
   "cell_type": "code",
   "execution_count": 19,
   "id": "91168c09",
   "metadata": {},
   "outputs": [
    {
     "data": {
      "image/png": "[encoded data removed]",
      "text/plain": [
       "<Figure size 640x480 with 2 Axes>"
      ]
     },
     "metadata": {},
     "output_type": "display_data"
    }
   ],
   "source": [
    "# Musliadi\n",
    "# Menghitung korelasi\n",
    "#visualisasi korelasi atribut\n",
    "#Correlations Plot\n",
    "correlations = datahewan.corr(method='pearson')\n",
    "sns.heatmap(correlations, annot = True);"
   ]
  },
  {
   "cell_type": "markdown",
   "id": "0c010ec5",
   "metadata": {},
   "source": [
    "- Hanya fitur symptoms4 fitur memiliki korelasi yang kuat dengan symsptoms5 sehingga perlu di drop"
   ]
  },
  {
   "cell_type": "code",
   "execution_count": 20,
   "id": "5790992a",
   "metadata": {},
   "outputs": [],
   "source": [
    "# Musliadi\n",
    "# Hapus kolom symptoms4\n",
    "datahewan.drop(columns=['symptoms4'], inplace=True)"
   ]
  },
  {
   "cell_type": "markdown",
   "id": "a2fc5dec",
   "metadata": {},
   "source": [
    "# CEK KELAS BALENCE ATAU TIDAK"
   ]
  },
  {
   "cell_type": "code",
   "execution_count": 21,
   "id": "fbad28c7",
   "metadata": {},
   "outputs": [
    {
     "name": "stdout",
     "output_type": "stream",
     "text": [
      "1    849\n",
      "0     20\n",
      "Name: Dangerous, dtype: int64\n"
     ]
    },
    {
     "data": {
      "image/png": "[encoded data removed]",
      "text/plain": [
       "<Figure size 640x480 with 1 Axes>"
      ]
     },
     "metadata": {},
     "output_type": "display_data"
    },
    {
     "name": "stdout",
     "output_type": "stream",
     "text": [
      "1    0.976985\n",
      "0    0.023015\n",
      "Name: Dangerous, dtype: float64\n"
     ]
    }
   ],
   "source": [
    "# Musliadi\n",
    "# melakukan cek apakah data label belance atau tidak\n",
    "class_distribution = datahewan['Dangerous'].value_counts()\n",
    "print(class_distribution)\n",
    "\n",
    "import seaborn as sns\n",
    "import matplotlib.pyplot as plt\n",
    "\n",
    "sns.countplot(data=datahewan, x='Dangerous')\n",
    "plt.title('Distribusi kelas')\n",
    "plt.xlabel('kelas')\n",
    "plt.ylabel('Jumlah')\n",
    "plt.show()\n",
    "\n",
    "class_proportions = datahewan['Dangerous'].value_counts(normalize=True)\n",
    "print(class_proportions)"
   ]
  },
  {
   "cell_type": "markdown",
   "id": "f2436362",
   "metadata": {},
   "source": [
    "- Dapat dilihat bahwa sanya data label tidak belance"
   ]
  },
  {
   "cell_type": "markdown",
   "id": "f86e1606",
   "metadata": {},
   "source": [
    "# TEKNIK OVERSAMPLING MINORITY CLASS"
   ]
  },
  {
   "cell_type": "code",
   "execution_count": 22,
   "id": "aa55b3c0",
   "metadata": {},
   "outputs": [],
   "source": [
    "# Musliadi\n",
    "from sklearn.utils import resample\n",
    "#create two different dataframe of majority and minority class \n",
    "df_majority = datahewan[(datahewan['Dangerous']== 1)] \n",
    "df_minority = datahewan[(datahewan['Dangerous']== 0)] \n",
    "#upsample minority class\n",
    "df_minority_upsampled = resample(df_minority, \n",
    "                                 replace=True,    # sample with replacement\n",
    "                                 n_samples= 850, # to match majority class\n",
    "                                 random_state=0)  # reproducible results\n",
    "df_upsampled = pd.concat([df_minority_upsampled, df_majority])"
   ]
  },
  {
   "cell_type": "code",
   "execution_count": 23,
   "id": "cb9c9745",
   "metadata": {},
   "outputs": [
    {
     "data": {
      "text/html": [
       "<div>\n",
       "<style scoped>\n",
       "    .dataframe tbody tr th:only-of-type {\n",
       "        vertical-align: middle;\n",
       "    }\n",
       "\n",
       "    .dataframe tbody tr th {\n",
       "        vertical-align: top;\n",
       "    }\n",
       "\n",
       "    .dataframe thead th {\n",
       "        text-align: right;\n",
       "    }\n",
       "</style>\n",
       "<table border=\"1\" class=\"dataframe\">\n",
       "  <thead>\n",
       "    <tr style=\"text-align: right;\">\n",
       "      <th></th>\n",
       "      <th>AnimalName</th>\n",
       "      <th>symptoms1</th>\n",
       "      <th>symptoms2</th>\n",
       "      <th>symptoms3</th>\n",
       "      <th>symptoms5</th>\n",
       "      <th>Dangerous</th>\n",
       "    </tr>\n",
       "  </thead>\n",
       "  <tbody>\n",
       "    <tr>\n",
       "      <th>612</th>\n",
       "      <td>1</td>\n",
       "      <td>112</td>\n",
       "      <td>30</td>\n",
       "      <td>221</td>\n",
       "      <td>167</td>\n",
       "      <td>0</td>\n",
       "    </tr>\n",
       "    <tr>\n",
       "      <th>615</th>\n",
       "      <td>1</td>\n",
       "      <td>35</td>\n",
       "      <td>96</td>\n",
       "      <td>145</td>\n",
       "      <td>80</td>\n",
       "      <td>0</td>\n",
       "    </tr>\n",
       "    <tr>\n",
       "      <th>184</th>\n",
       "      <td>4</td>\n",
       "      <td>44</td>\n",
       "      <td>29</td>\n",
       "      <td>103</td>\n",
       "      <td>70</td>\n",
       "      <td>0</td>\n",
       "    </tr>\n",
       "    <tr>\n",
       "      <th>187</th>\n",
       "      <td>4</td>\n",
       "      <td>58</td>\n",
       "      <td>84</td>\n",
       "      <td>40</td>\n",
       "      <td>100</td>\n",
       "      <td>0</td>\n",
       "    </tr>\n",
       "    <tr>\n",
       "      <th>187</th>\n",
       "      <td>4</td>\n",
       "      <td>58</td>\n",
       "      <td>84</td>\n",
       "      <td>40</td>\n",
       "      <td>100</td>\n",
       "      <td>0</td>\n",
       "    </tr>\n",
       "  </tbody>\n",
       "</table>\n",
       "</div>"
      ],
      "text/plain": [
       "     AnimalName  symptoms1  symptoms2  symptoms3  symptoms5  Dangerous\n",
       "612           1        112         30        221        167          0\n",
       "615           1         35         96        145         80          0\n",
       "184           4         44         29        103         70          0\n",
       "187           4         58         84         40        100          0\n",
       "187           4         58         84         40        100          0"
      ]
     },
     "execution_count": 23,
     "metadata": {},
     "output_type": "execute_result"
    }
   ],
   "source": [
    "#Musliadi\n",
    "#Melihat sampel teratas yang terambil\n",
    "df_upsampled.head(5)"
   ]
  },
  {
   "cell_type": "code",
   "execution_count": 24,
   "id": "629c7e41",
   "metadata": {},
   "outputs": [],
   "source": [
    "# Musliadi\n",
    "# mengganti nilai 0 dengan \"No\" dan nilai 1 dengan \"Yes\"\n",
    "df_upsampled['Dangerous'] = df_upsampled['Dangerous'].replace({0: 'No', 1: 'Yes'})"
   ]
  },
  {
   "cell_type": "code",
   "execution_count": 25,
   "id": "1512d783",
   "metadata": {},
   "outputs": [
    {
     "data": {
      "text/plain": [
       "AnimalName     int32\n",
       "symptoms1      int32\n",
       "symptoms2      int32\n",
       "symptoms3      int32\n",
       "symptoms5      int32\n",
       "Dangerous     object\n",
       "dtype: object"
      ]
     },
     "execution_count": 25,
     "metadata": {},
     "output_type": "execute_result"
    }
   ],
   "source": [
    "#Mus\n",
    "# melihat tipe data sekarang\n",
    "df_upsampled.dtypes"
   ]
  },
  {
   "cell_type": "code",
   "execution_count": 26,
   "id": "3742228c",
   "metadata": {},
   "outputs": [
    {
     "data": {
      "image/png": "[encoded data removed]",
      "text/plain": [
       "<Figure size 800x600 with 1 Axes>"
      ]
     },
     "metadata": {},
     "output_type": "display_data"
    }
   ],
   "source": [
    "# Mus\n",
    "# MELIHAT APAKAH SUDAH BELANCEE \n",
    "plt.figure(figsize=(8, 6))\n",
    "sns.countplot(data=df_upsampled, x='Dangerous')\n",
    "plt.title('Distribusi Kelas Setelah Menangani Ketidakseimbangan')\n",
    "plt.xlabel('Label')\n",
    "plt.ylabel('Jumlah')\n",
    "plt.show()"
   ]
  },
  {
   "cell_type": "markdown",
   "id": "c3bd1cc2",
   "metadata": {},
   "source": [
    "- LABEL SUDAH MENJADI BELANCE"
   ]
  },
  {
   "cell_type": "markdown",
   "id": "d7dbfa32",
   "metadata": {},
   "source": [
    "# MODELING"
   ]
  },
  {
   "cell_type": "code",
   "execution_count": 27,
   "id": "7525daf0",
   "metadata": {},
   "outputs": [],
   "source": [
    "# MUS\n",
    "# Membagi data x dan Y\n",
    "X = df_upsampled.iloc[:,0:-1] # X is the features in our dataset\n",
    "y = df_upsampled.iloc[:,-1]   # y is the Labels in our dataset"
   ]
  },
  {
   "cell_type": "code",
   "execution_count": 28,
   "id": "dfff67b7",
   "metadata": {},
   "outputs": [],
   "source": [
    "# Mus\n",
    "# Melatih data\n",
    "from sklearn.model_selection import train_test_split\n",
    "\n",
    "X_train, X_test, y_train, y_test = train_test_split(X, y, test_size=0.30, random_state=42) "
   ]
  },
  {
   "cell_type": "code",
   "execution_count": 29,
   "id": "5349c635",
   "metadata": {},
   "outputs": [],
   "source": [
    "# Musliadii\n",
    "#membuat model\n",
    "from sklearn.ensemble import ExtraTreesClassifier\n",
    "from sklearn.model_selection import GridSearchCV, train_test_split\n",
    "parameter_grid_search = [\n",
    "    {'n_estimators': [100,50], 'max_depth':[2,3,4,7,13,17]},\n",
    "    {'n_estimators': [20, 50, 72, 100, 100], 'max_depth':[5,6]}\n",
    "]"
   ]
  },
  {
   "cell_type": "code",
   "execution_count": 58,
   "id": "c0df580b",
   "metadata": {},
   "outputs": [
    {
     "name": "stdout",
     "output_type": "stream",
     "text": [
      "parameter optimal accuracy\n",
      "hasil parameter terbaik {'max_depth': 13, 'n_estimators': 100}\n",
      "              precision    recall  f1-score   support\n",
      "\n",
      "           0       1.00      0.50      0.67         4\n",
      "           1       0.99      1.00      1.00       257\n",
      "\n",
      "    accuracy                           0.99       261\n",
      "   macro avg       1.00      0.75      0.83       261\n",
      "weighted avg       0.99      0.99      0.99       261\n",
      "\n",
      "parameter optimal f1_weighted\n",
      "hasil parameter terbaik {'max_depth': 13, 'n_estimators': 100}\n",
      "              precision    recall  f1-score   support\n",
      "\n",
      "           0       1.00      0.50      0.67         4\n",
      "           1       0.99      1.00      1.00       257\n",
      "\n",
      "    accuracy                           0.99       261\n",
      "   macro avg       1.00      0.75      0.83       261\n",
      "weighted avg       0.99      0.99      0.99       261\n",
      "\n"
     ]
    }
   ],
   "source": [
    "# Musliadii\n",
    "# mencari parameter optimal berdasarkan metrik evaluasi \n",
    "metrics = [\"accuracy\", \"f1_weighted\"]\n",
    "for metric in metrics:\n",
    "    print(\"parameter optimal\", metric)\n",
    "    classifier = GridSearchCV(ExtraTreesClassifier(random_state=0),parameter_grid_search, cv=5, scoring=metric)\n",
    "    classifier.fit(X_train, y_train)\n",
    "    \n",
    "    print(\"hasil parameter terbaik\", classifier.best_params_)\n",
    "    \n",
    "    y_pred = classifier.predict(X_test)\n",
    "    print(classification_report(y_test, y_pred))"
   ]
  },
  {
   "cell_type": "markdown",
   "id": "ff3fbb35",
   "metadata": {},
   "source": [
    "- terlihat bahwa model yang dibangun dengan parameter optimal tersebut mencapai tingkat akurasi yang sempurna (1.00) untuk kedua kelas ('No' dan 'Yes'). Hal ini menunjukkan bahwa model mampu memprediksi kelas dengan sempurna berdasarkan fitur-fitur yang ada dalam dataset."
   ]
  },
  {
   "cell_type": "code",
   "execution_count": null,
   "id": "ee2fa160",
   "metadata": {},
   "outputs": [
    {
     "name": "stdout",
     "output_type": "stream",
     "text": [
      "Evaluasi untuk accuracy\n",
      "Evaluasi untuk f1_weighted\n"
     ]
    }
   ],
   "source": [
    "# Musliadi\n",
    "# mengevaluasi model menggunakan metrik evaluasi \n",
    "from sklearn.metrics import accuracy_score, confusion_matrix\n",
    "for metric in metrics:\n",
    "    print(\"Evaluasi untuk\", metric)\n",
    "\n",
    "classifier = GridSearchCV(ExtraTreesClassifier(random_state=0), parameter_grid_search, cv=5, scoring=metric)\n",
    "classifier.fit(X_train, y_train)\n",
    "print(\"Parameter terbaik:\", classifier.best_params_)\n",
    "y_pred = classifier.predict(X_test)\n",
    "accuracy = accuracy_score(y_test, y_pred)\n",
    "print(\"Akurasi model:\", accuracy)\n",
    "cm = confusion_matrix(y_test, y_pred)\n",
    "print(\"Confusion Matrix:\")\n",
    "print(cm)"
   ]
  },
  {
   "cell_type": "markdown",
   "id": "1d7399df",
   "metadata": {},
   "source": [
    "- Akurasi yang terbentuk adalah 99,80%"
   ]
  },
  {
   "cell_type": "code",
   "execution_count": 68,
   "id": "5a13b246",
   "metadata": {},
   "outputs": [
    {
     "data": {
      "image/png": "[encoded data removed]",
      "text/plain": [
       "<Figure size 640x480 with 2 Axes>"
      ]
     },
     "metadata": {},
     "output_type": "display_data"
    }
   ],
   "source": [
    "cm = confusion_matrix(y_test, y_pred)\n",
    "sns.heatmap(cm, annot=True,cmap='magma', fmt='d')\n",
    "plt.title('Confusion Matrix')\n",
    "plt.show()"
   ]
  },
  {
   "cell_type": "markdown",
   "id": "ed545cae",
   "metadata": {},
   "source": [
    "- Angka 252 berarti bahwa ada 252 instance yang merupakan kelas 'No'  yang diprediksi dengan benar oleh model\n",
    "- Angka 257 berarti bahwa ada 27 instance yang merupakan kelas 'Yes' yang diprediksi dengan benar oleh model"
   ]
  },
  {
   "cell_type": "markdown",
   "id": "bb065528",
   "metadata": {},
   "source": [
    " # MEMBUAT VERSI LAIN"
   ]
  },
  {
   "cell_type": "code",
   "execution_count": 3,
   "id": "78e4f337",
   "metadata": {},
   "outputs": [
    {
     "data": {
      "text/html": [
       "<div>\n",
       "<style scoped>\n",
       "    .dataframe tbody tr th:only-of-type {\n",
       "        vertical-align: middle;\n",
       "    }\n",
       "\n",
       "    .dataframe tbody tr th {\n",
       "        vertical-align: top;\n",
       "    }\n",
       "\n",
       "    .dataframe thead th {\n",
       "        text-align: right;\n",
       "    }\n",
       "</style>\n",
       "<table border=\"1\" class=\"dataframe\">\n",
       "  <thead>\n",
       "    <tr style=\"text-align: right;\">\n",
       "      <th></th>\n",
       "      <th>AnimalName</th>\n",
       "      <th>symptoms1</th>\n",
       "      <th>symptoms2</th>\n",
       "      <th>symptoms3</th>\n",
       "      <th>symptoms4</th>\n",
       "      <th>symptoms5</th>\n",
       "      <th>Dangerous</th>\n",
       "    </tr>\n",
       "  </thead>\n",
       "  <tbody>\n",
       "    <tr>\n",
       "      <th>0</th>\n",
       "      <td>Dog</td>\n",
       "      <td>Fever</td>\n",
       "      <td>Diarrhea</td>\n",
       "      <td>Vomiting</td>\n",
       "      <td>Weight loss</td>\n",
       "      <td>Dehydration</td>\n",
       "      <td>Yes</td>\n",
       "    </tr>\n",
       "    <tr>\n",
       "      <th>1</th>\n",
       "      <td>Dog</td>\n",
       "      <td>Fever</td>\n",
       "      <td>Diarrhea</td>\n",
       "      <td>Coughing</td>\n",
       "      <td>Tiredness</td>\n",
       "      <td>Pains</td>\n",
       "      <td>Yes</td>\n",
       "    </tr>\n",
       "    <tr>\n",
       "      <th>2</th>\n",
       "      <td>Dog</td>\n",
       "      <td>Fever</td>\n",
       "      <td>Diarrhea</td>\n",
       "      <td>Coughing</td>\n",
       "      <td>Vomiting</td>\n",
       "      <td>Anorexia</td>\n",
       "      <td>Yes</td>\n",
       "    </tr>\n",
       "    <tr>\n",
       "      <th>3</th>\n",
       "      <td>Dog</td>\n",
       "      <td>Fever</td>\n",
       "      <td>Difficulty breathing</td>\n",
       "      <td>Coughing</td>\n",
       "      <td>Lethargy</td>\n",
       "      <td>Sneezing</td>\n",
       "      <td>Yes</td>\n",
       "    </tr>\n",
       "    <tr>\n",
       "      <th>4</th>\n",
       "      <td>Dog</td>\n",
       "      <td>Fever</td>\n",
       "      <td>Diarrhea</td>\n",
       "      <td>Coughing</td>\n",
       "      <td>Lethargy</td>\n",
       "      <td>Blue Eye</td>\n",
       "      <td>Yes</td>\n",
       "    </tr>\n",
       "    <tr>\n",
       "      <th>...</th>\n",
       "      <td>...</td>\n",
       "      <td>...</td>\n",
       "      <td>...</td>\n",
       "      <td>...</td>\n",
       "      <td>...</td>\n",
       "      <td>...</td>\n",
       "      <td>...</td>\n",
       "    </tr>\n",
       "    <tr>\n",
       "      <th>866</th>\n",
       "      <td>Buffaloes</td>\n",
       "      <td>Fever</td>\n",
       "      <td>Difficulty breathing</td>\n",
       "      <td>Poor Appetite</td>\n",
       "      <td>Eye and Skin change</td>\n",
       "      <td>Unable to exercise</td>\n",
       "      <td>Yes</td>\n",
       "    </tr>\n",
       "    <tr>\n",
       "      <th>867</th>\n",
       "      <td>Buffaloes</td>\n",
       "      <td>Fever</td>\n",
       "      <td>Loss of  appetite</td>\n",
       "      <td>Lession on the skin</td>\n",
       "      <td>Lethargy</td>\n",
       "      <td>Joint Pain</td>\n",
       "      <td>Yes</td>\n",
       "    </tr>\n",
       "    <tr>\n",
       "      <th>868</th>\n",
       "      <td>Buffaloes</td>\n",
       "      <td>Lesions in the nasal cavity</td>\n",
       "      <td>Lesions on nose</td>\n",
       "      <td>Vomiting</td>\n",
       "      <td>Noisy Breathing</td>\n",
       "      <td>Lesions on nose</td>\n",
       "      <td>Yes</td>\n",
       "    </tr>\n",
       "    <tr>\n",
       "      <th>869</th>\n",
       "      <td>Buffaloes</td>\n",
       "      <td>Hair loss</td>\n",
       "      <td>Dandruff</td>\n",
       "      <td>Vomiting</td>\n",
       "      <td>Crusting of the skin</td>\n",
       "      <td>Ulcerated skin</td>\n",
       "      <td>Yes</td>\n",
       "    </tr>\n",
       "    <tr>\n",
       "      <th>870</th>\n",
       "      <td>Buffaloes</td>\n",
       "      <td>Greenish-yellow nasal discharge</td>\n",
       "      <td>Lack of pigmentation</td>\n",
       "      <td>Vomiting</td>\n",
       "      <td>Lethargy</td>\n",
       "      <td>Pain on face</td>\n",
       "      <td>Yes</td>\n",
       "    </tr>\n",
       "  </tbody>\n",
       "</table>\n",
       "<p>871 rows × 7 columns</p>\n",
       "</div>"
      ],
      "text/plain": [
       "    AnimalName                        symptoms1             symptoms2  \\\n",
       "0          Dog                            Fever              Diarrhea   \n",
       "1          Dog                            Fever              Diarrhea   \n",
       "2          Dog                            Fever              Diarrhea   \n",
       "3          Dog                            Fever  Difficulty breathing   \n",
       "4          Dog                            Fever              Diarrhea   \n",
       "..         ...                              ...                   ...   \n",
       "866  Buffaloes                            Fever  Difficulty breathing   \n",
       "867  Buffaloes                            Fever     Loss of  appetite   \n",
       "868  Buffaloes      Lesions in the nasal cavity       Lesions on nose   \n",
       "869  Buffaloes                        Hair loss              Dandruff   \n",
       "870  Buffaloes  Greenish-yellow nasal discharge  Lack of pigmentation   \n",
       "\n",
       "               symptoms3             symptoms4           symptoms5 Dangerous  \n",
       "0               Vomiting           Weight loss         Dehydration       Yes  \n",
       "1               Coughing             Tiredness               Pains       Yes  \n",
       "2               Coughing              Vomiting            Anorexia       Yes  \n",
       "3               Coughing              Lethargy            Sneezing       Yes  \n",
       "4               Coughing              Lethargy            Blue Eye       Yes  \n",
       "..                   ...                   ...                 ...       ...  \n",
       "866        Poor Appetite   Eye and Skin change  Unable to exercise       Yes  \n",
       "867  Lession on the skin              Lethargy          Joint Pain       Yes  \n",
       "868             Vomiting       Noisy Breathing     Lesions on nose       Yes  \n",
       "869             Vomiting  Crusting of the skin      Ulcerated skin       Yes  \n",
       "870             Vomiting              Lethargy        Pain on face       Yes  \n",
       "\n",
       "[871 rows x 7 columns]"
      ]
     },
     "execution_count": 3,
     "metadata": {},
     "output_type": "execute_result"
    }
   ],
   "source": [
    "#MUSLIADII\n",
    "#memanggil data dari direktori D\n",
    "datahewan2 = pd.read_csv('D:/All Data I Have/datahewan.csv')\n",
    "datahewan2"
   ]
  },
  {
   "cell_type": "code",
   "execution_count": 36,
   "id": "4200b86b",
   "metadata": {},
   "outputs": [
    {
     "data": {
      "text/plain": [
       "AnimalName    object\n",
       "symptoms1     object\n",
       "symptoms2     object\n",
       "symptoms3     object\n",
       "symptoms4     object\n",
       "symptoms5     object\n",
       "Dangerous     object\n",
       "dtype: object"
      ]
     },
     "execution_count": 36,
     "metadata": {},
     "output_type": "execute_result"
    }
   ],
   "source": [
    "#Mussliadi\n",
    "#Melihat tipe data \n",
    "datahewan2.dtypes"
   ]
  },
  {
   "cell_type": "code",
   "execution_count": 4,
   "id": "8b7a8049",
   "metadata": {},
   "outputs": [],
   "source": [
    "# Musliadi\n",
    "# Data yang diatas ada NaN nya dihapus aja, mengingat cuma 2 baris\n",
    "datahewan2.dropna(inplace = True, axis = 0)"
   ]
  },
  {
   "cell_type": "code",
   "execution_count": 5,
   "id": "6d78bedd",
   "metadata": {},
   "outputs": [],
   "source": [
    "# Musladi\n",
    "# mengubah teks dalam kolom 'AnimalName'\n",
    "# sehingga huruf pertama setiap kata menjadi huruf kapital dan huruf lain menjadi huruf kecil\n",
    "datahewan2['AnimalName'] = datahewan2['AnimalName'].str.capitalize()\n",
    "\n",
    "datahewan2['AnimalName'].replace({'Black-tailed deer':'Deer','White-tailed deer':'Deer','Mule deer':'Deer','Sika deer':'Deer',\n",
    "                            'Other birds': 'Birds', 'Dogs': 'Dog', 'Fox ':'Fox', 'Goats': 'Goat'\n",
    "                            \n",
    "                            }, inplace = True)"
   ]
  },
  {
   "cell_type": "code",
   "execution_count": 40,
   "id": "2ccb9c7e",
   "metadata": {},
   "outputs": [
    {
     "data": {
      "image/png": "[encoded data removed]",
      "text/plain": [
       "<Figure size 2500x500 with 1 Axes>"
      ]
     },
     "metadata": {},
     "output_type": "display_data"
    }
   ],
   "source": [
    "# Musliadi\n",
    "#Proporsi nama hewan berdasarkan bahaya\n",
    "colors = ['Wheat', 'Sienna'] \n",
    "plt.figure(figsize=(25,5))\n",
    "sns.countplot(x='AnimalName', hue='Dangerous', data=datahewan2, palette=colors)\n",
    "plt.title(' Proporsi Nama Hewan berdasarkan bahaya', fontsize=15)\n",
    "plt.show()"
   ]
  },
  {
   "cell_type": "code",
   "execution_count": 6,
   "id": "a93845ec",
   "metadata": {},
   "outputs": [],
   "source": [
    "# Musliadi\n",
    "# mengubah nilai-nilai dalam kolom bertipe objek menjadi nilai numerik\n",
    "from sklearn.preprocessing import LabelEncoder\n",
    "\n",
    "for col in datahewan2.columns : \n",
    "    if datahewan2[col].dtypes =='object' : \n",
    "        enc  = LabelEncoder()\n",
    "        enc.fit(datahewan2[col].astype(str))\n",
    "        datahewan2[f'{col}_'] = enc.transform(datahewan2[col].astype(str))\n",
    "        datahewan2.drop([col],axis=1, inplace=True) "
   ]
  },
  {
   "cell_type": "code",
   "execution_count": 7,
   "id": "7117b2ac",
   "metadata": {},
   "outputs": [],
   "source": [
    "datahewan2.columns = ['AnimalName', 'symptoms1', 'symptoms2', 'symptoms3', 'symptoms4', 'symptoms5', 'Dangerous']"
   ]
  },
  {
   "cell_type": "code",
   "execution_count": 8,
   "id": "366c1737",
   "metadata": {},
   "outputs": [
    {
     "data": {
      "image/png": "[encoded data removed]",
      "text/plain": [
       "<Figure size 640x480 with 2 Axes>"
      ]
     },
     "metadata": {},
     "output_type": "display_data"
    }
   ],
   "source": [
    "# Musliadi\n",
    "# Menghitung korelasi\n",
    "#visualisasi korelasi atribut\n",
    "#Correlations Plot\n",
    "correlations = datahewan2.corr(method='pearson')\n",
    "sns.heatmap(correlations, annot = True);"
   ]
  },
  {
   "cell_type": "markdown",
   "id": "ba05f559",
   "metadata": {},
   "source": [
    "- Hanya fitur symptoms4 fitur memiliki korelasi yang kuat dengan symsptoms5 sehingga perlu di drop"
   ]
  },
  {
   "cell_type": "code",
   "execution_count": 9,
   "id": "ec7b4b91",
   "metadata": {},
   "outputs": [],
   "source": [
    "# Musliadi\n",
    "# Hapus kolom symptoms4\n",
    "datahewan2.drop(columns=['symptoms4'], inplace=True)"
   ]
  },
  {
   "cell_type": "code",
   "execution_count": 11,
   "id": "9e761928",
   "metadata": {},
   "outputs": [],
   "source": [
    "# mengganti nilai 0 dengan \"No\" dan nilai 1 dengan \"Yes\"\n",
    "datahewan2['Dangerous'] = datahewan2['Dangerous'].replace({0: 'No', 1: 'Yes'})"
   ]
  },
  {
   "cell_type": "code",
   "execution_count": 13,
   "id": "90cb386f",
   "metadata": {},
   "outputs": [
    {
     "data": {
      "text/plain": [
       "AnimalName     int32\n",
       "symptoms1      int32\n",
       "symptoms2      int32\n",
       "symptoms3      int32\n",
       "symptoms5      int32\n",
       "Dangerous     object\n",
       "dtype: object"
      ]
     },
     "execution_count": 13,
     "metadata": {},
     "output_type": "execute_result"
    }
   ],
   "source": [
    "datahewan2.dtypes"
   ]
  },
  {
   "cell_type": "code",
   "execution_count": 15,
   "id": "c59d4889",
   "metadata": {},
   "outputs": [],
   "source": [
    "X = datahewan2.iloc[:,0:-1] # X is the features in our dataset\n",
    "y = datahewan2.iloc[:,-1]  "
   ]
  },
  {
   "cell_type": "code",
   "execution_count": 16,
   "id": "1df851ee",
   "metadata": {},
   "outputs": [],
   "source": [
    "from sklearn.model_selection import train_test_split\n",
    "\n",
    "X_train, X_test, y_train, y_test = train_test_split(X, y, test_size=0.30, random_state=42) "
   ]
  },
  {
   "cell_type": "code",
   "execution_count": 17,
   "id": "fe045f65",
   "metadata": {},
   "outputs": [],
   "source": [
    "from sklearn.ensemble import ExtraTreesClassifier\n",
    "from sklearn.model_selection import GridSearchCV, train_test_split\n",
    "parameter_grid_search = [\n",
    "    {'n_estimators': [100,50], 'max_depth':[2,3,4,7,13,17]},\n",
    "    {'n_estimators': [20, 50, 72, 100, 100], 'max_depth':[5,6]}\n",
    "]"
   ]
  },
  {
   "cell_type": "code",
   "execution_count": 18,
   "id": "0318a23b",
   "metadata": {},
   "outputs": [
    {
     "name": "stdout",
     "output_type": "stream",
     "text": [
      "parameter optimal accuracy\n",
      "hasil parameter terbaik {'max_depth': 13, 'n_estimators': 100}\n",
      "              precision    recall  f1-score   support\n",
      "\n",
      "          No       1.00      0.50      0.67         4\n",
      "         Yes       0.99      1.00      1.00       257\n",
      "\n",
      "    accuracy                           0.99       261\n",
      "   macro avg       1.00      0.75      0.83       261\n",
      "weighted avg       0.99      0.99      0.99       261\n",
      "\n",
      "parameter optimal f1_weighted\n",
      "hasil parameter terbaik {'max_depth': 13, 'n_estimators': 100}\n",
      "              precision    recall  f1-score   support\n",
      "\n",
      "          No       1.00      0.50      0.67         4\n",
      "         Yes       0.99      1.00      1.00       257\n",
      "\n",
      "    accuracy                           0.99       261\n",
      "   macro avg       1.00      0.75      0.83       261\n",
      "weighted avg       0.99      0.99      0.99       261\n",
      "\n"
     ]
    }
   ],
   "source": [
    "# mencari parameter optimal berdasarkan metrik evaluasi \n",
    "metrics = [\"accuracy\", \"f1_weighted\"]\n",
    "for metric in metrics:\n",
    "    print(\"parameter optimal\", metric)\n",
    "    classifier = GridSearchCV(ExtraTreesClassifier(random_state=0),parameter_grid_search, cv=5, scoring=metric)\n",
    "    classifier.fit(X_train, y_train)\n",
    "    \n",
    "    print(\"hasil parameter terbaik\", classifier.best_params_)\n",
    "    \n",
    "    y_pred = classifier.predict(X_test)\n",
    "    print(classification_report(y_test, y_pred))"
   ]
  },
  {
   "cell_type": "code",
   "execution_count": null,
   "id": "d21da281",
   "metadata": {},
   "outputs": [],
   "source": []
  },
  {
   "cell_type": "markdown",
   "id": "31046a23",
   "metadata": {},
   "source": [
    "- Akurasi yang terbentuk adalah 99,23%"
   ]
  },
  {
   "cell_type": "markdown",
   "id": "927089c5",
   "metadata": {},
   "source": [
    "- terlihat bahwa model yang dibangun dengan parameter optimal tersebut mencapai tingkat akurasi yang sempurna (1.00) untuk kelas 'No' dan (0.99) untuk kelas 'Yes'. Hal ini menunjukkan bahwa model mampu memprediksi kelas dengan hampir sempurna berdasarkan fitur-fitur yang ada dalam dataset."
   ]
  }
 ],
 "metadata": {
  "kernelspec": {
   "display_name": "Python 3 (ipykernel)",
   "language": "python",
   "name": "python3"
  },
  "language_info": {
   "codemirror_mode": {
    "name": "ipython",
    "version": 3
   },
   "file_extension": ".py",
   "mimetype": "text/x-python",
   "name": "python",
   "nbconvert_exporter": "python",
   "pygments_lexer": "ipython3",
   "version": "3.11.4"
  }
 },
 "nbformat": 4,
 "nbformat_minor": 5
}
